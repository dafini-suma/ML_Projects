{
 "cells": [
  {
   "cell_type": "code",
   "execution_count": null,
   "id": "f235c142-9758-4782-9276-2032b59e41e0",
   "metadata": {},
   "outputs": [],
   "source": [
    "list1=[1,2,3,4,5,6,7,8,9,10]\n",
    "for n in list1:\n",
    "    print(n*n)"
   ]
  },
  {
   "cell_type": "code",
   "execution_count": null,
   "id": "7478204f-acb9-426a-9d14-8ee3c77deec9",
   "metadata": {},
   "outputs": [],
   "source": [
    "list1=[1,2,3,4,5,6,7,8,9,10]\n",
    "list2=[]\n",
    "for m in list1:\n",
    "    if(m%2!=0):\n",
    "        list2.append(m)\n",
    "print(list2)"
   ]
  },
  {
   "cell_type": "code",
   "execution_count": null,
   "id": "849fcff3-d622-4a9f-9b61-caaeb1fabe76",
   "metadata": {},
   "outputs": [],
   "source": [
    "list1= list(range(1,101))\n",
    "list2=[]\n",
    "for i in list1:\n",
    "    if(i>1):\n",
    "        for j in range(2,i):\n",
    "            print(i,j)\n",
    "            if(i%j==0):\n",
    "                print(i,j)\n",
    "                break\n",
    "        else:\n",
    "            list2.append(i)  \n",
    "print(list2)              \n"
   ]
  },
  {
   "cell_type": "code",
   "execution_count": null,
   "id": "d7bb1ed2-4994-4abb-a575-9c6c87ba6828",
   "metadata": {},
   "outputs": [],
   "source": [
    "list1= list(range(1,31))\n",
    "print(list1)\n",
    "list2=[]\n",
    "for i in list1:\n",
    "    list2.append(i**(1/3))\n",
    "print(list2)\n",
    "#print(list2.index)"
   ]
  },
  {
   "cell_type": "code",
   "execution_count": null,
   "id": "ae46c5de-a2bd-4228-a804-88cf906e00de",
   "metadata": {
    "scrolled": true
   },
   "outputs": [],
   "source": [
    "tup1=('Netflix','Prime',234,987)\n",
    "tup2=(2,3,4,5,6,7)\n",
    "tup3=(\"a\",\"s\",\"d\",\"f\")\n",
    "print(tup1)\n",
    "print(tup2)\n",
    "print(tup3)"
   ]
  },
  {
   "cell_type": "code",
   "execution_count": null,
   "id": "61381902",
   "metadata": {},
   "outputs": [],
   "source": [
    "tup4=()\n",
    "tup4"
   ]
  },
  {
   "cell_type": "code",
   "execution_count": null,
   "id": "b315535d",
   "metadata": {},
   "outputs": [],
   "source": [
    "id(tup4)"
   ]
  },
  {
   "cell_type": "code",
   "execution_count": null,
   "id": "ef9f318c",
   "metadata": {},
   "outputs": [],
   "source": [
    "print(tup1[1])\n",
    "print(tup2[4])\n",
    "print(tup3[2])"
   ]
  },
  {
   "cell_type": "code",
   "execution_count": null,
   "id": "fb36bd05",
   "metadata": {},
   "outputs": [],
   "source": [
    "tup1[2]=10"
   ]
  },
  {
   "cell_type": "code",
   "execution_count": null,
   "id": "74a30a74",
   "metadata": {},
   "outputs": [],
   "source": [
    "print(tup1[1:4])\n",
    "tup2[2:5]"
   ]
  },
  {
   "cell_type": "code",
   "execution_count": null,
   "id": "fa3199b6",
   "metadata": {},
   "outputs": [],
   "source": [
    "tup=(1,2,3,4,5)\n",
    "print(tup)\n",
    "tup=(6,7,8)\n",
    "print(tup)"
   ]
  },
  {
   "cell_type": "code",
   "execution_count": null,
   "id": "b4def522",
   "metadata": {},
   "outputs": [],
   "source": [
    "print(tup1)\n",
    "print(tup2)\n",
    "tup4=tup1+tup2\n",
    "print(tup4)"
   ]
  },
  {
   "cell_type": "code",
   "execution_count": null,
   "id": "2d382cb7",
   "metadata": {},
   "outputs": [],
   "source": [
    "tup5=('a','b','c')\n",
    "print(tup5)\n",
    "del(tup5)\n",
    "print(tup5)"
   ]
  },
  {
   "cell_type": "code",
   "execution_count": null,
   "id": "c2e5de53",
   "metadata": {},
   "outputs": [],
   "source": [
    "L1=[1,2,3]\n",
    "#remove\n",
    "L1.remove(2)\n",
    "print (L1)\n",
    "#append\n",
    "L1.append('abc')\n",
    "print (L1)\n",
    "#pop\n",
    "L1.pop(1)\n",
    "print(L1)\n",
    "#insert\n",
    "L1.insert(2,'xyz')\n",
    "print(L1)\n",
    "#extend\n",
    "L2=[5,6,'abc']\n",
    "L1.extend(L2)\n",
    "print (L1)\n",
    "#reverse\n",
    "L1.reverse ()\n",
    "print (L1)\n",
    "#count\n",
    "print(L1.count('abc'))\n",
    "#length\n",
    "print(len(L1))"
   ]
  },
  {
   "cell_type": "code",
   "execution_count": null,
   "id": "4040e835",
   "metadata": {},
   "outputs": [],
   "source": [
    "tup=(1,2,3)\n",
    "tup.remove(1)\n",
    "tup"
   ]
  },
  {
   "cell_type": "code",
   "execution_count": null,
   "id": "e478e97e",
   "metadata": {},
   "outputs": [],
   "source": [
    "tup=(1,2,3)\n",
    "tup.append(5)\n",
    "tup"
   ]
  },
  {
   "cell_type": "code",
   "execution_count": null,
   "id": "78fe7b69",
   "metadata": {},
   "outputs": [],
   "source": [
    "tup=(1,2,3)\n",
    "tup.pop(1)\n",
    "tup"
   ]
  },
  {
   "cell_type": "code",
   "execution_count": null,
   "id": "903c15da",
   "metadata": {},
   "outputs": [],
   "source": [
    "tup=(1,2,3,4)\n",
    "tup.insert(1,5)\n",
    "tup"
   ]
  },
  {
   "cell_type": "code",
   "execution_count": null,
   "id": "48e36a76",
   "metadata": {},
   "outputs": [],
   "source": [
    "tup8=('a','b','c')\n",
    "tup.extend(tup)\n",
    "tup"
   ]
  },
  {
   "cell_type": "code",
   "execution_count": null,
   "id": "47963861",
   "metadata": {},
   "outputs": [],
   "source": [
    "tup=(1,2,3,4)\n",
    "tup.reverse()\n",
    "tup"
   ]
  },
  {
   "cell_type": "code",
   "execution_count": null,
   "id": "b3dce5ad",
   "metadata": {},
   "outputs": [],
   "source": [
    "tup=(1,2,3,4,2)\n",
    "print(tup.count(2))\n",
    "tup"
   ]
  },
  {
   "cell_type": "code",
   "execution_count": null,
   "id": "17527b34",
   "metadata": {},
   "outputs": [],
   "source": [
    "tup=(1,2,3,4,2)\n",
    "print(tup.index(2))\n",
    "tup"
   ]
  },
  {
   "cell_type": "code",
   "execution_count": null,
   "id": "f5fb7830",
   "metadata": {},
   "outputs": [],
   "source": [
    "tup=(1,2,3,4)\n",
    "for i in tup:\n",
    "    print(i*i)"
   ]
  },
  {
   "cell_type": "code",
   "execution_count": null,
   "id": "a9652962",
   "metadata": {},
   "outputs": [],
   "source": [
    "tup=(1,2,3,4,5,6,7,8,9,10)\n",
    "tup2=()\n",
    "for i in tup:\n",
    "    if(i%2!=0):\n",
    "        print(i)\n"
   ]
  },
  {
   "cell_type": "code",
   "execution_count": null,
   "id": "101da232",
   "metadata": {},
   "outputs": [],
   "source": [
    "tup=(1,2,3,4,5,6,7,8,9,10)\n",
    "for i in tup:\n",
    "    print(i**(1/3))"
   ]
  },
  {
   "cell_type": "code",
   "execution_count": null,
   "id": "2ca27361",
   "metadata": {},
   "outputs": [],
   "source": [
    "tup=(1,2,3,(2,5,6),7,8,9,10)\n",
    "print(tup.count(2))"
   ]
  },
  {
   "cell_type": "code",
   "execution_count": null,
   "id": "a7260d60",
   "metadata": {},
   "outputs": [],
   "source": [
    "tup=tuple(range(10,20))\n",
    "tup"
   ]
  },
  {
   "cell_type": "code",
   "execution_count": null,
   "id": "c72addc9",
   "metadata": {},
   "outputs": [],
   "source": [
    "tup=tuple(range(0,10))\n",
    "for i in tup:\n",
    "    print(i**(1/3))"
   ]
  },
  {
   "cell_type": "code",
   "execution_count": null,
   "id": "43241831",
   "metadata": {},
   "outputs": [],
   "source": [
    "tup=(1,2,3,7,8,9,10)\n",
    "print(tup.index(2))"
   ]
  },
  {
   "cell_type": "code",
   "execution_count": null,
   "id": "006aa1a9",
   "metadata": {},
   "outputs": [],
   "source": [
    "dict1 ={'Room No':[101,102,103,104],\n",
    "      'Occupancy':[2,4,5,6],\n",
    "      'Cot':['Twin Bed','King Sized','Double Bed','Queen Sized'],\n",
    "      'Sea View':[True,False,True,False],\n",
    "      'AC':['AC','Non-AC','Non-AC','AC'] }\n",
    "dict1"
   ]
  },
  {
   "cell_type": "code",
   "execution_count": null,
   "id": "c39d7fa6",
   "metadata": {},
   "outputs": [],
   "source": [
    "dict1['Sea View'][1]"
   ]
  },
  {
   "cell_type": "code",
   "execution_count": null,
   "id": "c4fa3073",
   "metadata": {},
   "outputs": [],
   "source": [
    "for i in dict1.values():\n",
    "    print(i[0])"
   ]
  },
  {
   "cell_type": "code",
   "execution_count": null,
   "id": "e0c25bd0",
   "metadata": {},
   "outputs": [],
   "source": [
    "for i in dict1.keys():\n",
    "    print(i)"
   ]
  },
  {
   "cell_type": "code",
   "execution_count": null,
   "id": "637857cb",
   "metadata": {},
   "outputs": [],
   "source": [
    "import pandas as pd\n",
    "df=pd.DataFrame(dict1)\n",
    "df"
   ]
  },
  {
   "cell_type": "code",
   "execution_count": null,
   "id": "2f52cd82",
   "metadata": {},
   "outputs": [],
   "source": [
    "Days={'Sun','Mon','Mon','Tue','Wed'}\n",
    "Days"
   ]
  },
  {
   "cell_type": "code",
   "execution_count": null,
   "id": "32675b15",
   "metadata": {},
   "outputs": [],
   "source": [
    "Days=['Sun','Mon','Mon','Tue','Wed','Thu','Thu','Fri']\n",
    "print(Days)\n",
    "Days=set(Days)\n",
    "print(Days)\n",
    "Days=list(Days)\n",
    "print(Days)"
   ]
  },
  {
   "cell_type": "code",
   "execution_count": null,
   "id": "1c9133c3",
   "metadata": {},
   "outputs": [],
   "source": [
    "id(Days)"
   ]
  },
  {
   "cell_type": "code",
   "execution_count": null,
   "id": "b2563121",
   "metadata": {},
   "outputs": [],
   "source": [
    "Days={'Sun','Mon','Mon','Tue','Wed'}\n",
    "Days1={'Thu','Thu','Fri','Sat'}\n",
    "print(Days)\n",
    "Days1"
   ]
  },
  {
   "cell_type": "code",
   "execution_count": null,
   "id": "85b79877",
   "metadata": {},
   "outputs": [],
   "source": [
    "print(Days+Days1)"
   ]
  },
  {
   "cell_type": "code",
   "execution_count": null,
   "id": "dbca7dcc",
   "metadata": {},
   "outputs": [],
   "source": [
    "Days.remove('Sun')\n",
    "Days"
   ]
  },
  {
   "cell_type": "code",
   "execution_count": null,
   "id": "2cfdbbb7",
   "metadata": {},
   "outputs": [],
   "source": [
    "Days.remove(Days[0])\n",
    "Days"
   ]
  },
  {
   "cell_type": "code",
   "execution_count": null,
   "id": "4b96b6ee",
   "metadata": {},
   "outputs": [],
   "source": [
    "print(Days1)\n",
    "del(Days1)\n",
    "Days1"
   ]
  },
  {
   "cell_type": "code",
   "execution_count": null,
   "id": "ff5a2114",
   "metadata": {},
   "outputs": [],
   "source": [
    "Days.append('Thu')\n",
    "Days"
   ]
  },
  {
   "cell_type": "code",
   "execution_count": null,
   "id": "b5fe8b04",
   "metadata": {},
   "outputs": [],
   "source": [
    "Days.pop()\n",
    "Days"
   ]
  },
  {
   "cell_type": "code",
   "execution_count": null,
   "id": "a30ac143",
   "metadata": {},
   "outputs": [],
   "source": [
    "Days.insert('Mon')\n",
    "Days"
   ]
  },
  {
   "cell_type": "code",
   "execution_count": null,
   "id": "d2f3e471",
   "metadata": {},
   "outputs": [],
   "source": [
    "Days.extend(Days1)\n",
    "Days"
   ]
  },
  {
   "cell_type": "code",
   "execution_count": null,
   "id": "e113740a",
   "metadata": {},
   "outputs": [],
   "source": [
    "Days.sort()\n",
    "Days"
   ]
  },
  {
   "cell_type": "code",
   "execution_count": null,
   "id": "8707c58b",
   "metadata": {},
   "outputs": [],
   "source": [
    "Days.count('Sun')"
   ]
  },
  {
   "cell_type": "code",
   "execution_count": null,
   "id": "963f6450",
   "metadata": {},
   "outputs": [],
   "source": [
    "len(Days)"
   ]
  },
  {
   "cell_type": "code",
   "execution_count": null,
   "id": "c84d6e01",
   "metadata": {},
   "outputs": [],
   "source": [
    "Days2={}\n",
    "Days2"
   ]
  },
  {
   "cell_type": "code",
   "execution_count": null,
   "id": "9624840a",
   "metadata": {},
   "outputs": [],
   "source": [
    "Days2=set(range(11))\n",
    "Days2\n"
   ]
  },
  {
   "cell_type": "code",
   "execution_count": null,
   "id": "89c86cf8",
   "metadata": {},
   "outputs": [],
   "source": [
    "for i in Days2:\n",
    "    print(i)"
   ]
  },
  {
   "cell_type": "code",
   "execution_count": null,
   "id": "5a2381de",
   "metadata": {},
   "outputs": [],
   "source": [
    "S1=set(['mon','tue','wed'])\n",
    "print(S1)\n",
    "#add\n",
    "S1.add('thur')\n",
    "print(S1)\n",
    "#discard\n",
    "S1.discard('thur')\n",
    "print(S1)\n",
    "#superset and subset\n",
    "S2=set(['mon','fri','sat','tue','wed'])\n",
    "print(S1<=S2)\n",
    "print(S1>=S2)"
   ]
  },
  {
   "cell_type": "code",
   "execution_count": null,
   "id": "c5f0bbb6",
   "metadata": {},
   "outputs": [],
   "source": [
    "S1=set(['mon','tue','wed'])\n",
    "print(S1)"
   ]
  },
  {
   "cell_type": "code",
   "execution_count": null,
   "id": "5e6c8f35",
   "metadata": {},
   "outputs": [],
   "source": [
    "S1.add('thur')\n",
    "print(S1)"
   ]
  },
  {
   "cell_type": "code",
   "execution_count": null,
   "id": "ad482640",
   "metadata": {},
   "outputs": [],
   "source": [
    "S1.discard('thur')\n",
    "print(S1)"
   ]
  },
  {
   "cell_type": "code",
   "execution_count": null,
   "id": "35c52038",
   "metadata": {},
   "outputs": [],
   "source": [
    "S2=set(['mon','fri','sat','tue','wed'])\n",
    "print(S1<=S2)\n",
    "print(S1>=S2)"
   ]
  },
  {
   "cell_type": "code",
   "execution_count": null,
   "id": "6fd320c6",
   "metadata": {},
   "outputs": [],
   "source": [
    "S1=set(['mon','tue','wed'])\n",
    "S2=set(['thu','fri','sat','sun'])\n",
    "S3=S1|S2\n",
    "S3"
   ]
  },
  {
   "cell_type": "code",
   "execution_count": null,
   "id": "5c086089",
   "metadata": {},
   "outputs": [],
   "source": [
    "S1=set(['mon','tue','wed'])\n",
    "S2=set(['mon','fri','sat','tue','wed'])\n",
    "S3=S1&S2\n",
    "print(S3)\n",
    "S4=S2-S1\n",
    "print(S4)"
   ]
  },
  {
   "cell_type": "code",
   "execution_count": null,
   "id": "037a74da",
   "metadata": {},
   "outputs": [],
   "source": [
    "S1=set(['mon','tue','wed'])\n",
    "print(S1)\n",
    "#add\n",
    "S1.add('thur')\n",
    "print(S1)\n",
    "#discard\n",
    "S1.discard('thur')\n",
    "print(S1)\n",
    "#superset and subset\n",
    "S2=set(['mon','fri','sat','tue'])\n",
    "print(S1<=S2)\n",
    "print(S1>=S2)\n",
    "#union\n",
    "print (S1|S2)\n",
    "#intersection\n",
    "print(S1&S2)\n",
    "#Difference\n",
    "print(S1-S2)"
   ]
  },
  {
   "cell_type": "code",
   "execution_count": null,
   "id": "fc0f5f54",
   "metadata": {},
   "outputs": [],
   "source": [
    "import pandas as pd"
   ]
  },
  {
   "cell_type": "code",
   "execution_count": null,
   "id": "9a54c897",
   "metadata": {},
   "outputs": [],
   "source": [
    "df=pd.read_csv(\"F:\\\\Data Science\\\\Data Sets\\\\cp-national-datafile-csv.csv\")"
   ]
  },
  {
   "cell_type": "code",
   "execution_count": null,
   "id": "369a2cd3",
   "metadata": {},
   "outputs": [],
   "source": [
    "df"
   ]
  },
  {
   "cell_type": "code",
   "execution_count": null,
   "id": "6485df6d",
   "metadata": {},
   "outputs": [],
   "source": [
    "df.head()"
   ]
  },
  {
   "cell_type": "code",
   "execution_count": null,
   "id": "733a79de",
   "metadata": {},
   "outputs": [],
   "source": [
    "df.head(10)"
   ]
  },
  {
   "cell_type": "code",
   "execution_count": null,
   "id": "97f0d2d1",
   "metadata": {},
   "outputs": [],
   "source": [
    "df.tail()"
   ]
  },
  {
   "cell_type": "code",
   "execution_count": null,
   "id": "ea72c442",
   "metadata": {},
   "outputs": [],
   "source": [
    "df.columns"
   ]
  },
  {
   "cell_type": "code",
   "execution_count": null,
   "id": "70bf51f7",
   "metadata": {},
   "outputs": [],
   "source": [
    "df.dtypes"
   ]
  },
  {
   "cell_type": "code",
   "execution_count": null,
   "id": "5e8ccd82",
   "metadata": {},
   "outputs": [],
   "source": [
    "df.describe()"
   ]
  },
  {
   "cell_type": "code",
   "execution_count": null,
   "id": "0a1fa58c",
   "metadata": {},
   "outputs": [],
   "source": [
    "df_describe=df.describe()\n",
    "print(df_describe)"
   ]
  },
  {
   "cell_type": "code",
   "execution_count": null,
   "id": "a8bd0e7a",
   "metadata": {},
   "outputs": [],
   "source": [
    "df.describe.iloc[4,0]"
   ]
  },
  {
   "cell_type": "code",
   "execution_count": null,
   "id": "59408fd0",
   "metadata": {},
   "outputs": [],
   "source": [
    "df.max()"
   ]
  },
  {
   "cell_type": "code",
   "execution_count": null,
   "id": "fa6a3c30",
   "metadata": {},
   "outputs": [],
   "source": [
    "df.min()"
   ]
  },
  {
   "cell_type": "code",
   "execution_count": null,
   "id": "9d7ec543",
   "metadata": {},
   "outputs": [],
   "source": [
    "df['Year'].min()"
   ]
  },
  {
   "cell_type": "code",
   "execution_count": null,
   "id": "a6a5a346",
   "metadata": {},
   "outputs": [],
   "source": [
    "df['UpperCIB'].max()"
   ]
  },
  {
   "cell_type": "code",
   "execution_count": null,
   "id": "130ef79a",
   "metadata": {},
   "outputs": [],
   "source": [
    "df.mean()"
   ]
  },
  {
   "cell_type": "code",
   "execution_count": null,
   "id": "a1a4539e",
   "metadata": {},
   "outputs": [],
   "source": [
    "df['EstCode'].value_counts()"
   ]
  },
  {
   "cell_type": "code",
   "execution_count": null,
   "id": "5c89a7db",
   "metadata": {},
   "outputs": [],
   "source": [
    "df.head(5).mean()"
   ]
  },
  {
   "cell_type": "code",
   "execution_count": null,
   "id": "20b7c4be",
   "metadata": {},
   "outputs": [],
   "source": [
    "df[['Year','SE']]"
   ]
  },
  {
   "cell_type": "code",
   "execution_count": null,
   "id": "9649c9e7",
   "metadata": {},
   "outputs": [],
   "source": [
    "df['LowerCIB'].describe()"
   ]
  },
  {
   "cell_type": "code",
   "execution_count": null,
   "id": "33d23b47",
   "metadata": {},
   "outputs": [],
   "source": [
    "df.groupby(['Year']).mean()"
   ]
  },
  {
   "cell_type": "code",
   "execution_count": null,
   "id": "f2a169d0",
   "metadata": {},
   "outputs": [],
   "source": [
    "df.groupby('Year')['Estimate'].max()"
   ]
  },
  {
   "cell_type": "code",
   "execution_count": null,
   "id": "34066346",
   "metadata": {},
   "outputs": [],
   "source": [
    "df.groupby('Year')[['Estimate','SE']].count()"
   ]
  },
  {
   "cell_type": "code",
   "execution_count": null,
   "id": "70138f61",
   "metadata": {},
   "outputs": [],
   "source": [
    "df.SE>2"
   ]
  },
  {
   "cell_type": "code",
   "execution_count": null,
   "id": "23f1fd1a",
   "metadata": {},
   "outputs": [],
   "source": [
    "df[df.SE>2]"
   ]
  },
  {
   "cell_type": "code",
   "execution_count": null,
   "id": "1ed29a44",
   "metadata": {},
   "outputs": [],
   "source": [
    "df[['MsCode','Estimate']][df.SE>2]"
   ]
  },
  {
   "cell_type": "code",
   "execution_count": null,
   "id": "b8ce0cd3",
   "metadata": {},
   "outputs": [],
   "source": [
    "df = pd.read_csv(\"https://raw.githubusercontent.com/Apress/data-analysis-and-visualization-using-python/master/Ch07/Salaries.csv\")"
   ]
  },
  {
   "cell_type": "code",
   "execution_count": null,
   "id": "3da74f87",
   "metadata": {},
   "outputs": [],
   "source": [
    "df"
   ]
  },
  {
   "cell_type": "code",
   "execution_count": null,
   "id": "94decf59",
   "metadata": {},
   "outputs": [],
   "source": [
    "df.groupby(['sex'])['salary'].mean()"
   ]
  },
  {
   "cell_type": "code",
   "execution_count": null,
   "id": "fb6678d3",
   "metadata": {},
   "outputs": [],
   "source": [
    "df.groupby(['discipline'])['salary'].mean()"
   ]
  },
  {
   "cell_type": "code",
   "execution_count": null,
   "id": "db004c68",
   "metadata": {},
   "outputs": [],
   "source": [
    "df[(df.phd==20) | (df.phd==40)]"
   ]
  },
  {
   "cell_type": "code",
   "execution_count": null,
   "id": "93c71558",
   "metadata": {},
   "outputs": [],
   "source": [
    "df[(df.phd==20) & (df['rank']=='Prof')]"
   ]
  },
  {
   "cell_type": "code",
   "execution_count": null,
   "id": "0c211f41",
   "metadata": {},
   "outputs": [],
   "source": [
    "import pandas as pd\n",
    "df=pd.read_csv(\"F:\\\\Data Science\\\\Data Sets\\\\mtcars.csv\")\n",
    "df"
   ]
  },
  {
   "cell_type": "code",
   "execution_count": null,
   "id": "714d26f4",
   "metadata": {},
   "outputs": [],
   "source": [
    "df.head()"
   ]
  },
  {
   "cell_type": "code",
   "execution_count": null,
   "id": "c9e9c70b",
   "metadata": {},
   "outputs": [],
   "source": [
    "df.columns"
   ]
  },
  {
   "cell_type": "code",
   "execution_count": null,
   "id": "6889321a",
   "metadata": {},
   "outputs": [],
   "source": [
    "df.dtypes"
   ]
  },
  {
   "cell_type": "code",
   "execution_count": null,
   "id": "191bd8b4",
   "metadata": {},
   "outputs": [],
   "source": [
    "df.describe()"
   ]
  },
  {
   "cell_type": "code",
   "execution_count": null,
   "id": "249b0af5",
   "metadata": {},
   "outputs": [],
   "source": [
    "df.max()"
   ]
  },
  {
   "cell_type": "code",
   "execution_count": null,
   "id": "9ea7a3ca",
   "metadata": {},
   "outputs": [],
   "source": [
    "df.min()"
   ]
  },
  {
   "cell_type": "code",
   "execution_count": null,
   "id": "188983c1",
   "metadata": {},
   "outputs": [],
   "source": [
    "df['gear'].max()"
   ]
  },
  {
   "cell_type": "code",
   "execution_count": null,
   "id": "7b426bcd",
   "metadata": {},
   "outputs": [],
   "source": [
    "df['wt'].min()"
   ]
  },
  {
   "cell_type": "code",
   "execution_count": null,
   "id": "e6eccce3",
   "metadata": {},
   "outputs": [],
   "source": [
    "df['cyl'].mean()"
   ]
  },
  {
   "cell_type": "code",
   "execution_count": null,
   "id": "a95e59ae",
   "metadata": {},
   "outputs": [],
   "source": [
    "df.mean()"
   ]
  },
  {
   "cell_type": "code",
   "execution_count": null,
   "id": "68647fd2",
   "metadata": {},
   "outputs": [],
   "source": [
    "df['mpg'].value_counts()"
   ]
  },
  {
   "cell_type": "code",
   "execution_count": null,
   "id": "36d656c7",
   "metadata": {},
   "outputs": [],
   "source": [
    "df.value_counts()"
   ]
  },
  {
   "cell_type": "code",
   "execution_count": null,
   "id": "ccbf7a36",
   "metadata": {},
   "outputs": [],
   "source": [
    "df_describe=df.describe()\n",
    "print(df_describe)"
   ]
  },
  {
   "cell_type": "code",
   "execution_count": null,
   "id": "9088de87",
   "metadata": {},
   "outputs": [],
   "source": [
    "df.std()"
   ]
  },
  {
   "cell_type": "code",
   "execution_count": null,
   "id": "980a4c80",
   "metadata": {},
   "outputs": [],
   "source": [
    "df.head(10).max()"
   ]
  },
  {
   "cell_type": "code",
   "execution_count": null,
   "id": "ea8e5c15",
   "metadata": {},
   "outputs": [],
   "source": [
    "df[['mpg','cyl','vs']]"
   ]
  },
  {
   "cell_type": "code",
   "execution_count": null,
   "id": "105b1527",
   "metadata": {},
   "outputs": [],
   "source": [
    "df['cyl'].describe()"
   ]
  },
  {
   "cell_type": "code",
   "execution_count": null,
   "id": "7e4bc160",
   "metadata": {},
   "outputs": [],
   "source": [
    "df.groupby(['cyl']).mean()"
   ]
  },
  {
   "cell_type": "code",
   "execution_count": null,
   "id": "4209db11",
   "metadata": {},
   "outputs": [],
   "source": [
    "df.groupby('vs')[['mpg','disp']].max()"
   ]
  },
  {
   "cell_type": "code",
   "execution_count": null,
   "id": "d6d636cb",
   "metadata": {},
   "outputs": [],
   "source": [
    "df[df.mpg>20]"
   ]
  },
  {
   "cell_type": "code",
   "execution_count": null,
   "id": "01667e33",
   "metadata": {},
   "outputs": [],
   "source": [
    "df[(df.mpg>20) | (df.vs==1)]"
   ]
  },
  {
   "cell_type": "code",
   "execution_count": null,
   "id": "92284219",
   "metadata": {},
   "outputs": [],
   "source": [
    "df[(df.cyl==4) & (df.vs==1)]"
   ]
  },
  {
   "cell_type": "code",
   "execution_count": null,
   "id": "bd59effc",
   "metadata": {},
   "outputs": [],
   "source": [
    "df_sub = df[(df.cyl==8) & (df.qsec<20)]\n",
    "df_sub"
   ]
  },
  {
   "cell_type": "code",
   "execution_count": null,
   "id": "f2e4fd4c",
   "metadata": {},
   "outputs": [],
   "source": [
    "df_sub = df[(df.gear==3) & (df.wt<3) & (df.mpg<20)]\n",
    "df_sub"
   ]
  },
  {
   "cell_type": "code",
   "execution_count": null,
   "id": "5d6a03ce",
   "metadata": {},
   "outputs": [],
   "source": [
    "df.iloc[[1,2,3,4],[1,3,5]]"
   ]
  },
  {
   "cell_type": "code",
   "execution_count": null,
   "id": "dd3d874b",
   "metadata": {},
   "outputs": [],
   "source": [
    "df.iloc[1:4,0:3]"
   ]
  },
  {
   "cell_type": "code",
   "execution_count": null,
   "id": "d5b37b33",
   "metadata": {},
   "outputs": [],
   "source": [
    "df.iloc[20:,0:]"
   ]
  },
  {
   "cell_type": "code",
   "execution_count": null,
   "id": "5e35710a",
   "metadata": {},
   "outputs": [],
   "source": [
    "df.iloc[20:31,0:]"
   ]
  },
  {
   "cell_type": "code",
   "execution_count": null,
   "id": "276e946f",
   "metadata": {},
   "outputs": [],
   "source": [
    "df.iloc[20:31,]"
   ]
  },
  {
   "cell_type": "code",
   "execution_count": null,
   "id": "98ff0544",
   "metadata": {},
   "outputs": [],
   "source": [
    "df.iloc[:,4]"
   ]
  },
  {
   "cell_type": "code",
   "execution_count": null,
   "id": "8ce19a3f",
   "metadata": {},
   "outputs": [],
   "source": [
    "df.iloc[:,1]"
   ]
  },
  {
   "cell_type": "code",
   "execution_count": null,
   "id": "e28e7d1e",
   "metadata": {},
   "outputs": [],
   "source": [
    "import pandas as pd\n",
    "shoplist = pd.DataFrame(columns=['Fruits','Vegetables','Snacks','Diary','Beverages'])\n",
    "shoplist"
   ]
  },
  {
   "cell_type": "code",
   "execution_count": null,
   "id": "de246261",
   "metadata": {},
   "outputs": [],
   "source": [
    "A=['Apple','Banana','Grapes','pineapple','kiwi']\n",
    "B=('carrot','potato','cucumber','onion','beans')\n",
    "C=['Chocolates','Biscuit','Candies','Waffles','Icecream']\n",
    "D=('Milk','Butter','Ghee','Curd','Cheese')\n",
    "E=['Miranda','Pepsi','Coco-cola','Fanta','Sprite']\n",
    "shoplist['Fruits']=pd.Series(A)\n",
    "shoplist['Vegetables']=pd.Series(B)\n",
    "shoplist['Snacks']=pd.Series(C)\n",
    "shoplist['Diary']=pd.Series(D)\n",
    "shoplist['Beverages']=pd.Series(E)\n",
    "\n",
    "shoplist"
   ]
  },
  {
   "cell_type": "markdown",
   "id": "5251589c",
   "metadata": {},
   "source": [
    "B=('carrot','potato','cucumber','onion','beans')\n",
    "C=['Chocolates','Biscuit','Candies','Waffles','Icecream']\n",
    "D=('Milk','Butter','Ghee','Curd','Cheese')\n",
    "E=['Miranda','Pepsi','Coco-cola','Fanta','Sprite']\n",
    "\n",
    "shoplist['Vegetables']=pd.Series(B)\n",
    "shoplist['Snacks']=pd.Series(C)\n",
    "shoplist['Diary']=pd.Series(D)\n",
    "shoplist['Beverages']=pd.Series(E)\n",
    "#D={'Fruits':'Orange','Vegetables':'Onion','Snacks':'Chips','Diary':'Milk','Beverages':'Miranda'}\n",
    "#C={'Biscuit','Candies','Chocolates'}\n",
    "#shoplist['Beverages']=pd.Series(C)\n",
    "#shoplist =pd.DataFrame(D)"
   ]
  },
  {
   "cell_type": "code",
   "execution_count": null,
   "id": "9c375098",
   "metadata": {},
   "outputs": [],
   "source": [
    "dict1 ={'Room No':[101,102,103,104,105],\n",
    "      'Occupancy':[2,4,5,6,5],\n",
    "      'Cot':['Twin Bed','King Sized','Double Bed','Queen Sized','Double Bed'],\n",
    "      'Sea View':[True,False,True,False,True],\n",
    "      'AC':['AC','Non-AC','Non-AC','AC','AC'] }\n",
    "df=pd.DataFrame(dict1)\n",
    "df"
   ]
  },
  {
   "cell_type": "code",
   "execution_count": null,
   "id": "0534ce23",
   "metadata": {},
   "outputs": [],
   "source": [
    "Fruits=pd.Series(['Apple','Banana','Grapes'])\n",
    "Fruits"
   ]
  },
  {
   "cell_type": "code",
   "execution_count": null,
   "id": "e711d325",
   "metadata": {},
   "outputs": [],
   "source": [
    "#Color = pd.Series({'Apple':'Red','Banana':'Yellow','Grapes':'Purple'})\n",
    "Fruits = pd.Series(['Apple','Banana','Grapes'])\n",
    "print(Fruits)\n"
   ]
  },
  {
   "cell_type": "code",
   "execution_count": null,
   "id": "9ed6b125",
   "metadata": {},
   "outputs": [],
   "source": [
    "Color = Fruits.map({'Apple':'Red','Banana':'Yellow','Grapes':'Purple'})\n",
    "Color"
   ]
  },
  {
   "cell_type": "code",
   "execution_count": null,
   "id": "3aa88bb5",
   "metadata": {},
   "outputs": [],
   "source": [
    "Color = pd.Series(['Apple','Banana','Grapes','pineapple','kiwi'])\n",
    "Color"
   ]
  },
  {
   "cell_type": "code",
   "execution_count": null,
   "id": "427ca216",
   "metadata": {},
   "outputs": [],
   "source": [
    "shoplist['Fruits']=shoplist['Fruits'].map({'Apple':'Red','Banana':'Yellow','Grapes':'Purple','pineapple':'yellow','kiwi':'brown'})              \n",
    "print(shoplist)"
   ]
  },
  {
   "cell_type": "code",
   "execution_count": null,
   "id": "2896d0f9",
   "metadata": {},
   "outputs": [],
   "source": [
    "A = ['Suma','Mary']\n",
    "B=[2,3]\n",
    "C = pd.Series(A)\n",
    "D = pd.Series(B)\n",
    "Dict1 ={'Name':C,'Age': D}\n",
    "df=pd.DataFrame(Dict1)\n",
    "df"
   ]
  },
  {
   "cell_type": "code",
   "execution_count": null,
   "id": "91a54520",
   "metadata": {},
   "outputs": [],
   "source": [
    "import pandas as pd\n",
    "S = pd.Series(5, index =[1,2,3,4])\n",
    "S"
   ]
  },
  {
   "cell_type": "code",
   "execution_count": null,
   "id": "801a4084",
   "metadata": {},
   "outputs": [],
   "source": [
    "S= pd.Series(['A','B','C'],index =[1,2,3])\n",
    "S"
   ]
  },
  {
   "cell_type": "code",
   "execution_count": null,
   "id": "c48d1563",
   "metadata": {},
   "outputs": [],
   "source": [
    "S= pd.Series([1,2,3],index=['a','b','c'])\n",
    "S"
   ]
  },
  {
   "cell_type": "code",
   "execution_count": null,
   "id": "6544afcd",
   "metadata": {},
   "outputs": [],
   "source": [
    "S.values"
   ]
  },
  {
   "cell_type": "code",
   "execution_count": null,
   "id": "ea580a9f",
   "metadata": {},
   "outputs": [],
   "source": [
    "a = pd.Series([1,2,5,6])\n",
    "a"
   ]
  },
  {
   "cell_type": "code",
   "execution_count": null,
   "id": "48306de0",
   "metadata": {},
   "outputs": [],
   "source": [
    "a.ndim #dimension"
   ]
  },
  {
   "cell_type": "code",
   "execution_count": null,
   "id": "6466708a",
   "metadata": {},
   "outputs": [],
   "source": [
    "import numpy as np\n",
    "a=pd.Series(['Java','c','c++',np.nan])\n",
    "a"
   ]
  },
  {
   "cell_type": "code",
   "execution_count": null,
   "id": "72fb6a46",
   "metadata": {},
   "outputs": [],
   "source": [
    "a=pd.Series([1,1,2,2,3,4])\n",
    "pd.unique(a)"
   ]
  },
  {
   "cell_type": "code",
   "execution_count": null,
   "id": "35b82ebc",
   "metadata": {},
   "outputs": [],
   "source": [
    "a.value_counts()"
   ]
  },
  {
   "cell_type": "code",
   "execution_count": null,
   "id": "ae39c970",
   "metadata": {},
   "outputs": [],
   "source": [
    "S = pd.Series(['Friends','Family'])\n",
    "print(S)\n",
    "S.map('I love my {}'.format, na_action = 'ignore')\n"
   ]
  },
  {
   "cell_type": "code",
   "execution_count": null,
   "id": "26ebd348",
   "metadata": {},
   "outputs": [],
   "source": [
    "A=pd.Series(['Apple','Orange','Grapes'])\n",
    "print(A)\n",
    "A.map('I like {}'.format,na_action='ignore')"
   ]
  },
  {
   "cell_type": "code",
   "execution_count": null,
   "id": "f4c9f57d",
   "metadata": {},
   "outputs": [],
   "source": [
    "txt1 = 'My name is {} ,I like {}'.format('Suma','Shinee') #, na_action = 'ignore'\n",
    "txt1"
   ]
  },
  {
   "cell_type": "code",
   "execution_count": null,
   "id": "118152b7",
   "metadata": {},
   "outputs": [],
   "source": [
    "txt1 = 'My name is {0} ,I like {1}'.format('Suma','Shinee') #, na_action = 'ignore'\n",
    "txt1"
   ]
  },
  {
   "cell_type": "code",
   "execution_count": null,
   "id": "21e512b5",
   "metadata": {},
   "outputs": [],
   "source": [
    "txt1 = 'My name is {name} ,I like {band} band'.format( name = 'Suma',band = 'Shinee') #, na_action = 'ignore'\n",
    "txt1"
   ]
  },
  {
   "cell_type": "code",
   "execution_count": null,
   "id": "45c72691",
   "metadata": {},
   "outputs": [],
   "source": [
    "L1 = [1,2,3]\n",
    "L1 = ()"
   ]
  },
  {
   "cell_type": "code",
   "execution_count": null,
   "id": "f9da7942",
   "metadata": {},
   "outputs": [],
   "source": [
    "L1 = lambda x\n",
    "print(L1)\n",
    "for i in L1:\n",
    "    x = lambda i: i *5\n",
    "    print(x(i))"
   ]
  },
  {
   "cell_type": "code",
   "execution_count": null,
   "id": "b868c197",
   "metadata": {},
   "outputs": [],
   "source": [
    "ages=[13,90,17,59,21,60,5]\n",
    "ages\n",
    "n = 20\n",
    "F_ages=list(filter(lambda x:x>n,ages))\n",
    "print(F_ages)"
   ]
  },
  {
   "cell_type": "code",
   "execution_count": null,
   "id": "f1eeb7c8",
   "metadata": {},
   "outputs": [],
   "source": [
    "import pandas as pd\n",
    "df=pd.read_csv(\"F:\\\\Data Science\\\\Data Sets\\\\employee.csv\")\n",
    "#print(df)\n",
    "dist = pd.DataFrame(df['DistanceFromHome'])\n",
    "#print(dist)\n",
    "dist['dist_label']=pd.cut(x=dist['DistanceFromHome'],bins=[0,2,5,10,15,20,25,28,30],labels =['Walkable','Very Close','Close','','Far','Very Far'])\n",
    "dist"
   ]
  },
  {
   "cell_type": "code",
   "execution_count": null,
   "id": "5116a89f",
   "metadata": {},
   "outputs": [],
   "source": [
    "a=pd.Series([10, 30, 10, 30, 43, 45, 49, 35, 48, 17, 25, 17, 15, 46, 28])\n",
    "info_nums=pd.DataFrame({'age':a})\n",
    "info_nums\n",
    "info_nums['age_bins']=pd.cut(x=info_nums['age'],bins=[1,15,25,35,50],\n",
    "                             labels=['Kids','Adolescents','Teenagers','Working'])\n",
    "info_nums"
   ]
  },
  {
   "cell_type": "code",
   "execution_count": null,
   "id": "2a9877d5",
   "metadata": {},
   "outputs": [],
   "source": [
    "import pandas as pd\n",
    "import numpy as np\n",
    "a = np.arange(1,11)\n",
    "l1=[]\n",
    "l2=[]\n",
    "l3=[]\n",
    "df=pd.DataFrame(columns = ['Col0','Col1','Col2','Col3'])\n",
    "df['Col0']=pd.Series(a)\n",
    "for a in range(1,11):\n",
    "    a1=a*a\n",
    "    a2=a*a*a\n",
    "    l1.append(a1)\n",
    "    l2.append(a2)\n",
    "    l3.append((a1+a2)/2)\n",
    "print(l1)\n",
    "print(l2)\n",
    "print(l3)\n",
    "df['Col1']=pd.Series(l1)\n",
    "df['Col2']=pd.Series(l2)\n",
    "df['Col3']=pd.Series(l3)\n",
    "df"
   ]
  },
  {
   "cell_type": "code",
   "execution_count": null,
   "id": "5291917d",
   "metadata": {},
   "outputs": [],
   "source": [
    "a = np.arange(1,11)\n",
    "l1=[]\n",
    "l2=[]\n",
    "l3=[]\n",
    "df=pd.DataFrame(columns = ['Col0','Col1','Col2','Col3'])\n",
    "df['Col0']=pd.Series(a)\n",
    "for a in range(1,11):\n",
    "    a1=a*a\n",
    "    a2=a*a*a\n",
    "    l1.append(a1)\n",
    "    l2.append(a2)\n",
    "    l3.append((a1+a2)/2)\n",
    "df['Col1']=pd.Series(l1)\n",
    "df['Col2']=pd.Series(l2)\n",
    "df['Col3']=pd.Series(l3)\n",
    "df"
   ]
  },
  {
   "cell_type": "code",
   "execution_count": null,
   "id": "77b0e323",
   "metadata": {},
   "outputs": [],
   "source": [
    "frame={'x':x, 'y':y, \"Z\":z }\n",
    "result=pd.DataFrame(frame)\n",
    "result"
   ]
  },
  {
   "cell_type": "code",
   "execution_count": null,
   "id": "67632a38",
   "metadata": {},
   "outputs": [],
   "source": [
    "a = [54,54,70,82,70,90,82]\n",
    "mode=max(a,key=a.count)\n",
    "print(mode)\n"
   ]
  },
  {
   "cell_type": "code",
   "execution_count": null,
   "id": "ad30bad1",
   "metadata": {},
   "outputs": [],
   "source": [
    "def vote_age(x):\n",
    "    if x >= 18:\n",
    "        print('Eligible') \n",
    "    else:\n",
    "        print('Not Eligible') \n",
    "vote_age(14)\n",
    "vote_age(21)"
   ]
  },
  {
   "cell_type": "code",
   "execution_count": null,
   "id": "0a580db7",
   "metadata": {},
   "outputs": [],
   "source": [
    "def country(x):\n",
    "    if x == 'India':\n",
    "        return 'Delhi'\n",
    "    elif x == 'Thailand':\n",
    "        return 'Bangkok'\n",
    "    elif x == 'South Korea':\n",
    "        return 'Seoul'\n",
    "    elif x == 'Sri Lanka':\n",
    "        return 'Columbo'\n",
    "    elif x == 'United States':\n",
    "        return 'Washington'\n",
    "country('United States')"
   ]
  },
  {
   "cell_type": "code",
   "execution_count": null,
   "id": "945fa4ad",
   "metadata": {},
   "outputs": [],
   "source": [
    "def multoftwo(x):\n",
    "    if x%2 == 0:\n",
    "        print('Multiple of 2')\n",
    "    else:\n",
    "        print('Not a Multiple of 2')\n",
    "multoftwo(3)\n",
    "multoftwo(4)"
   ]
  },
  {
   "cell_type": "code",
   "execution_count": null,
   "id": "32a5771a",
   "metadata": {},
   "outputs": [],
   "source": [
    "def vowel_Consonant(x):\n",
    "    if x == 'a' or x == 'e' or x == 'i' or x == 'o' or x == 'u':\n",
    "        print('Vowel')\n",
    "    else:\n",
    "        print('Consonant')\n",
    "vowel_Consonant('i')\n",
    "vowel_Consonant('z')"
   ]
  },
  {
   "cell_type": "code",
   "execution_count": null,
   "id": "06f2c595",
   "metadata": {},
   "outputs": [],
   "source": [
    "def sub(x):\n",
    "    if x == 'SB01':\n",
    "        print('English')\n",
    "    elif x == 'SB02':\n",
    "        print('Chemistry')\n",
    "    elif x == 'SB03':\n",
    "        print('Physics')\n",
    "sub('SB01')\n",
    "sub('SB02')"
   ]
  },
  {
   "cell_type": "code",
   "execution_count": 1,
   "id": "3b0b834f",
   "metadata": {},
   "outputs": [
    {
     "name": "stdout",
     "output_type": "stream",
     "text": [
      "Enter n: 3\n",
      "6\n"
     ]
    }
   ],
   "source": [
    "n = int(input(\"Enter n: \"))\n",
    "#n = 6\n",
    "sum = 0\n",
    "i = 1\n",
    "while i <= n:\n",
    "    sum = sum + i\n",
    "    i = i + 1\n",
    "print(sum)"
   ]
  },
  {
   "cell_type": "code",
   "execution_count": 3,
   "id": "dce33a3c",
   "metadata": {},
   "outputs": [
    {
     "name": "stdout",
     "output_type": "stream",
     "text": [
      "Enter n: 4\n",
      "24\n"
     ]
    }
   ],
   "source": [
    "n = int(input(\"Enter n: \"))\n",
    "f=1\n",
    "while n>0:\n",
    "    f = f * n\n",
    "    n = n - 1\n",
    "print(f)"
   ]
  },
  {
   "cell_type": "code",
   "execution_count": null,
   "id": "ad6fe0c2",
   "metadata": {},
   "outputs": [],
   "source": [
    "word = 'Python_is_great'\n",
    "i = 0\n",
    "while i<len(word):\n",
    "    print(word[i])\n",
    "    i=i+1\n"
   ]
  },
  {
   "cell_type": "code",
   "execution_count": null,
   "id": "6910dc19",
   "metadata": {},
   "outputs": [],
   "source": [
    "n=input(\"Enter the word:\")\n",
    "\n",
    "L1=list(n)\n",
    "c=len(L1)\n",
    "i=0\n",
    "while i<c:\n",
    "    print(L1[i])\n",
    "    i=i+1"
   ]
  },
  {
   "cell_type": "code",
   "execution_count": null,
   "id": "95fbdb7e",
   "metadata": {},
   "outputs": [],
   "source": [
    "import pandas as pd\n",
    "df = pd.read_csv(\"F:\\\\Data Science\\\\Data Sets\\\\employee.csv\")\n",
    "dist = df[df['Age']]\n",
    "df['Age1'] = pd.cut(x=df['Age'], bins=[20,30,40,50], labels = ['Twenties','Thirties','Forties'])\n",
    "dist\n",
    "#if df.[(df.age>=20) & (df.age<30)]\n",
    "#df[['Age'],['Age1']]\n",
    "    #print('twe')\n"
   ]
  },
  {
   "cell_type": "code",
   "execution_count": 11,
   "id": "6ccf4968",
   "metadata": {},
   "outputs": [
    {
     "name": "stdout",
     "output_type": "stream",
     "text": [
      "The count is: 2\n"
     ]
    }
   ],
   "source": [
    "# define string\n",
    "string = \"Python is awesome, isn't it?\"\n",
    "substring = \"is\"\n",
    "\n",
    "count = string.count(substring)\n",
    "\n",
    "# print count\n",
    "print(\"The count is:\", count)"
   ]
  },
  {
   "cell_type": "code",
   "execution_count": 17,
   "id": "224facfa",
   "metadata": {},
   "outputs": [
    {
     "name": "stdout",
     "output_type": "stream",
     "text": [
      " \n",
      "i\n",
      "The count is: 1\n"
     ]
    }
   ],
   "source": [
    "# define string\n",
    "string = \"Python is awesome, isn't it?\"\n",
    "substring = \"i\"\n",
    "\n",
    "print(string[6])\n",
    "print(string[25])\n",
    "# count after first 'i' and before the last 'i'\n",
    "count = string.count(substring, 8, 25)\n",
    "\n",
    "# print count\n",
    "print(\"The count is:\", count)"
   ]
  },
  {
   "cell_type": "code",
   "execution_count": 1,
   "id": "4c4fb7af",
   "metadata": {},
   "outputs": [],
   "source": [
    "import pandas as pd\n",
    "df=pd.read_csv(\"F:\\\\Data Science\\\\Data Sets\\\\employee.csv\")"
   ]
  },
  {
   "cell_type": "code",
   "execution_count": 2,
   "id": "3a6ab3b7",
   "metadata": {},
   "outputs": [
    {
     "data": {
      "text/html": [
       "<div>\n",
       "<style scoped>\n",
       "    .dataframe tbody tr th:only-of-type {\n",
       "        vertical-align: middle;\n",
       "    }\n",
       "\n",
       "    .dataframe tbody tr th {\n",
       "        vertical-align: top;\n",
       "    }\n",
       "\n",
       "    .dataframe thead th {\n",
       "        text-align: right;\n",
       "    }\n",
       "</style>\n",
       "<table border=\"1\" class=\"dataframe\">\n",
       "  <thead>\n",
       "    <tr style=\"text-align: right;\">\n",
       "      <th></th>\n",
       "      <th>Age</th>\n",
       "      <th>Attrition</th>\n",
       "      <th>BusinessTravel</th>\n",
       "      <th>DailyRate</th>\n",
       "      <th>Department</th>\n",
       "      <th>DistanceFromHome</th>\n",
       "      <th>Education</th>\n",
       "      <th>EducationField</th>\n",
       "      <th>EmployeeCount</th>\n",
       "      <th>EmployeeNumber</th>\n",
       "      <th>...</th>\n",
       "      <th>RelationshipSatisfaction</th>\n",
       "      <th>StandardHours</th>\n",
       "      <th>StockOptionLevel</th>\n",
       "      <th>TotalWorkingYears</th>\n",
       "      <th>TrainingTimesLastYear</th>\n",
       "      <th>WorkLifeBalance</th>\n",
       "      <th>YearsAtCompany</th>\n",
       "      <th>YearsInCurrentRole</th>\n",
       "      <th>YearsSinceLastPromotion</th>\n",
       "      <th>YearsWithCurrManager</th>\n",
       "    </tr>\n",
       "  </thead>\n",
       "  <tbody>\n",
       "    <tr>\n",
       "      <th>0</th>\n",
       "      <td>41</td>\n",
       "      <td>Yes</td>\n",
       "      <td>Travel_Rarely</td>\n",
       "      <td>1102</td>\n",
       "      <td>Sales</td>\n",
       "      <td>1</td>\n",
       "      <td>2</td>\n",
       "      <td>Life Sciences</td>\n",
       "      <td>1</td>\n",
       "      <td>1</td>\n",
       "      <td>...</td>\n",
       "      <td>1</td>\n",
       "      <td>80</td>\n",
       "      <td>0</td>\n",
       "      <td>8</td>\n",
       "      <td>0</td>\n",
       "      <td>1</td>\n",
       "      <td>6</td>\n",
       "      <td>4</td>\n",
       "      <td>0</td>\n",
       "      <td>5</td>\n",
       "    </tr>\n",
       "    <tr>\n",
       "      <th>1</th>\n",
       "      <td>49</td>\n",
       "      <td>No</td>\n",
       "      <td>Travel_Frequently</td>\n",
       "      <td>279</td>\n",
       "      <td>Research &amp; Development</td>\n",
       "      <td>8</td>\n",
       "      <td>1</td>\n",
       "      <td>Life Sciences</td>\n",
       "      <td>1</td>\n",
       "      <td>2</td>\n",
       "      <td>...</td>\n",
       "      <td>4</td>\n",
       "      <td>80</td>\n",
       "      <td>1</td>\n",
       "      <td>10</td>\n",
       "      <td>3</td>\n",
       "      <td>3</td>\n",
       "      <td>10</td>\n",
       "      <td>7</td>\n",
       "      <td>1</td>\n",
       "      <td>7</td>\n",
       "    </tr>\n",
       "    <tr>\n",
       "      <th>2</th>\n",
       "      <td>37</td>\n",
       "      <td>Yes</td>\n",
       "      <td>Travel_Rarely</td>\n",
       "      <td>1373</td>\n",
       "      <td>Research &amp; Development</td>\n",
       "      <td>2</td>\n",
       "      <td>2</td>\n",
       "      <td>Other</td>\n",
       "      <td>1</td>\n",
       "      <td>4</td>\n",
       "      <td>...</td>\n",
       "      <td>2</td>\n",
       "      <td>80</td>\n",
       "      <td>0</td>\n",
       "      <td>7</td>\n",
       "      <td>3</td>\n",
       "      <td>3</td>\n",
       "      <td>0</td>\n",
       "      <td>0</td>\n",
       "      <td>0</td>\n",
       "      <td>0</td>\n",
       "    </tr>\n",
       "    <tr>\n",
       "      <th>3</th>\n",
       "      <td>33</td>\n",
       "      <td>No</td>\n",
       "      <td>Travel_Frequently</td>\n",
       "      <td>1392</td>\n",
       "      <td>Research &amp; Development</td>\n",
       "      <td>3</td>\n",
       "      <td>4</td>\n",
       "      <td>Life Sciences</td>\n",
       "      <td>1</td>\n",
       "      <td>5</td>\n",
       "      <td>...</td>\n",
       "      <td>3</td>\n",
       "      <td>80</td>\n",
       "      <td>0</td>\n",
       "      <td>8</td>\n",
       "      <td>3</td>\n",
       "      <td>3</td>\n",
       "      <td>8</td>\n",
       "      <td>7</td>\n",
       "      <td>3</td>\n",
       "      <td>0</td>\n",
       "    </tr>\n",
       "    <tr>\n",
       "      <th>4</th>\n",
       "      <td>27</td>\n",
       "      <td>No</td>\n",
       "      <td>Travel_Rarely</td>\n",
       "      <td>591</td>\n",
       "      <td>Research &amp; Development</td>\n",
       "      <td>2</td>\n",
       "      <td>1</td>\n",
       "      <td>Medical</td>\n",
       "      <td>1</td>\n",
       "      <td>7</td>\n",
       "      <td>...</td>\n",
       "      <td>4</td>\n",
       "      <td>80</td>\n",
       "      <td>1</td>\n",
       "      <td>6</td>\n",
       "      <td>3</td>\n",
       "      <td>3</td>\n",
       "      <td>2</td>\n",
       "      <td>2</td>\n",
       "      <td>2</td>\n",
       "      <td>2</td>\n",
       "    </tr>\n",
       "    <tr>\n",
       "      <th>...</th>\n",
       "      <td>...</td>\n",
       "      <td>...</td>\n",
       "      <td>...</td>\n",
       "      <td>...</td>\n",
       "      <td>...</td>\n",
       "      <td>...</td>\n",
       "      <td>...</td>\n",
       "      <td>...</td>\n",
       "      <td>...</td>\n",
       "      <td>...</td>\n",
       "      <td>...</td>\n",
       "      <td>...</td>\n",
       "      <td>...</td>\n",
       "      <td>...</td>\n",
       "      <td>...</td>\n",
       "      <td>...</td>\n",
       "      <td>...</td>\n",
       "      <td>...</td>\n",
       "      <td>...</td>\n",
       "      <td>...</td>\n",
       "      <td>...</td>\n",
       "    </tr>\n",
       "    <tr>\n",
       "      <th>1465</th>\n",
       "      <td>36</td>\n",
       "      <td>No</td>\n",
       "      <td>Travel_Frequently</td>\n",
       "      <td>884</td>\n",
       "      <td>Research &amp; Development</td>\n",
       "      <td>23</td>\n",
       "      <td>2</td>\n",
       "      <td>Medical</td>\n",
       "      <td>1</td>\n",
       "      <td>2061</td>\n",
       "      <td>...</td>\n",
       "      <td>3</td>\n",
       "      <td>80</td>\n",
       "      <td>1</td>\n",
       "      <td>17</td>\n",
       "      <td>3</td>\n",
       "      <td>3</td>\n",
       "      <td>5</td>\n",
       "      <td>2</td>\n",
       "      <td>0</td>\n",
       "      <td>3</td>\n",
       "    </tr>\n",
       "    <tr>\n",
       "      <th>1466</th>\n",
       "      <td>39</td>\n",
       "      <td>No</td>\n",
       "      <td>Travel_Rarely</td>\n",
       "      <td>613</td>\n",
       "      <td>Research &amp; Development</td>\n",
       "      <td>6</td>\n",
       "      <td>1</td>\n",
       "      <td>Medical</td>\n",
       "      <td>1</td>\n",
       "      <td>2062</td>\n",
       "      <td>...</td>\n",
       "      <td>1</td>\n",
       "      <td>80</td>\n",
       "      <td>1</td>\n",
       "      <td>9</td>\n",
       "      <td>5</td>\n",
       "      <td>3</td>\n",
       "      <td>7</td>\n",
       "      <td>7</td>\n",
       "      <td>1</td>\n",
       "      <td>7</td>\n",
       "    </tr>\n",
       "    <tr>\n",
       "      <th>1467</th>\n",
       "      <td>27</td>\n",
       "      <td>No</td>\n",
       "      <td>Travel_Rarely</td>\n",
       "      <td>155</td>\n",
       "      <td>Research &amp; Development</td>\n",
       "      <td>4</td>\n",
       "      <td>3</td>\n",
       "      <td>Life Sciences</td>\n",
       "      <td>1</td>\n",
       "      <td>2064</td>\n",
       "      <td>...</td>\n",
       "      <td>2</td>\n",
       "      <td>80</td>\n",
       "      <td>1</td>\n",
       "      <td>6</td>\n",
       "      <td>0</td>\n",
       "      <td>3</td>\n",
       "      <td>6</td>\n",
       "      <td>2</td>\n",
       "      <td>0</td>\n",
       "      <td>3</td>\n",
       "    </tr>\n",
       "    <tr>\n",
       "      <th>1468</th>\n",
       "      <td>49</td>\n",
       "      <td>No</td>\n",
       "      <td>Travel_Frequently</td>\n",
       "      <td>1023</td>\n",
       "      <td>Sales</td>\n",
       "      <td>2</td>\n",
       "      <td>3</td>\n",
       "      <td>Medical</td>\n",
       "      <td>1</td>\n",
       "      <td>2065</td>\n",
       "      <td>...</td>\n",
       "      <td>4</td>\n",
       "      <td>80</td>\n",
       "      <td>0</td>\n",
       "      <td>17</td>\n",
       "      <td>3</td>\n",
       "      <td>2</td>\n",
       "      <td>9</td>\n",
       "      <td>6</td>\n",
       "      <td>0</td>\n",
       "      <td>8</td>\n",
       "    </tr>\n",
       "    <tr>\n",
       "      <th>1469</th>\n",
       "      <td>34</td>\n",
       "      <td>No</td>\n",
       "      <td>Travel_Rarely</td>\n",
       "      <td>628</td>\n",
       "      <td>Research &amp; Development</td>\n",
       "      <td>8</td>\n",
       "      <td>3</td>\n",
       "      <td>Medical</td>\n",
       "      <td>1</td>\n",
       "      <td>2068</td>\n",
       "      <td>...</td>\n",
       "      <td>1</td>\n",
       "      <td>80</td>\n",
       "      <td>0</td>\n",
       "      <td>6</td>\n",
       "      <td>3</td>\n",
       "      <td>4</td>\n",
       "      <td>4</td>\n",
       "      <td>3</td>\n",
       "      <td>1</td>\n",
       "      <td>2</td>\n",
       "    </tr>\n",
       "  </tbody>\n",
       "</table>\n",
       "<p>1470 rows × 35 columns</p>\n",
       "</div>"
      ],
      "text/plain": [
       "      Age Attrition     BusinessTravel  DailyRate              Department  \\\n",
       "0      41       Yes      Travel_Rarely       1102                   Sales   \n",
       "1      49        No  Travel_Frequently        279  Research & Development   \n",
       "2      37       Yes      Travel_Rarely       1373  Research & Development   \n",
       "3      33        No  Travel_Frequently       1392  Research & Development   \n",
       "4      27        No      Travel_Rarely        591  Research & Development   \n",
       "...   ...       ...                ...        ...                     ...   \n",
       "1465   36        No  Travel_Frequently        884  Research & Development   \n",
       "1466   39        No      Travel_Rarely        613  Research & Development   \n",
       "1467   27        No      Travel_Rarely        155  Research & Development   \n",
       "1468   49        No  Travel_Frequently       1023                   Sales   \n",
       "1469   34        No      Travel_Rarely        628  Research & Development   \n",
       "\n",
       "      DistanceFromHome  Education EducationField  EmployeeCount  \\\n",
       "0                    1          2  Life Sciences              1   \n",
       "1                    8          1  Life Sciences              1   \n",
       "2                    2          2          Other              1   \n",
       "3                    3          4  Life Sciences              1   \n",
       "4                    2          1        Medical              1   \n",
       "...                ...        ...            ...            ...   \n",
       "1465                23          2        Medical              1   \n",
       "1466                 6          1        Medical              1   \n",
       "1467                 4          3  Life Sciences              1   \n",
       "1468                 2          3        Medical              1   \n",
       "1469                 8          3        Medical              1   \n",
       "\n",
       "      EmployeeNumber  ...  RelationshipSatisfaction StandardHours  \\\n",
       "0                  1  ...                         1            80   \n",
       "1                  2  ...                         4            80   \n",
       "2                  4  ...                         2            80   \n",
       "3                  5  ...                         3            80   \n",
       "4                  7  ...                         4            80   \n",
       "...              ...  ...                       ...           ...   \n",
       "1465            2061  ...                         3            80   \n",
       "1466            2062  ...                         1            80   \n",
       "1467            2064  ...                         2            80   \n",
       "1468            2065  ...                         4            80   \n",
       "1469            2068  ...                         1            80   \n",
       "\n",
       "      StockOptionLevel  TotalWorkingYears  TrainingTimesLastYear  \\\n",
       "0                    0                  8                      0   \n",
       "1                    1                 10                      3   \n",
       "2                    0                  7                      3   \n",
       "3                    0                  8                      3   \n",
       "4                    1                  6                      3   \n",
       "...                ...                ...                    ...   \n",
       "1465                 1                 17                      3   \n",
       "1466                 1                  9                      5   \n",
       "1467                 1                  6                      0   \n",
       "1468                 0                 17                      3   \n",
       "1469                 0                  6                      3   \n",
       "\n",
       "     WorkLifeBalance  YearsAtCompany YearsInCurrentRole  \\\n",
       "0                  1               6                  4   \n",
       "1                  3              10                  7   \n",
       "2                  3               0                  0   \n",
       "3                  3               8                  7   \n",
       "4                  3               2                  2   \n",
       "...              ...             ...                ...   \n",
       "1465               3               5                  2   \n",
       "1466               3               7                  7   \n",
       "1467               3               6                  2   \n",
       "1468               2               9                  6   \n",
       "1469               4               4                  3   \n",
       "\n",
       "      YearsSinceLastPromotion  YearsWithCurrManager  \n",
       "0                           0                     5  \n",
       "1                           1                     7  \n",
       "2                           0                     0  \n",
       "3                           3                     0  \n",
       "4                           2                     2  \n",
       "...                       ...                   ...  \n",
       "1465                        0                     3  \n",
       "1466                        1                     7  \n",
       "1467                        0                     3  \n",
       "1468                        0                     8  \n",
       "1469                        1                     2  \n",
       "\n",
       "[1470 rows x 35 columns]"
      ]
     },
     "execution_count": 2,
     "metadata": {},
     "output_type": "execute_result"
    }
   ],
   "source": [
    "df"
   ]
  },
  {
   "cell_type": "code",
   "execution_count": null,
   "id": "1d2a2e53",
   "metadata": {},
   "outputs": [],
   "source": []
  }
 ],
 "metadata": {
  "kernelspec": {
   "display_name": "Python 3",
   "language": "python",
   "name": "python3"
  },
  "language_info": {
   "codemirror_mode": {
    "name": "ipython",
    "version": 3
   },
   "file_extension": ".py",
   "mimetype": "text/x-python",
   "name": "python",
   "nbconvert_exporter": "python",
   "pygments_lexer": "ipython3",
   "version": "3.8.8"
  }
 },
 "nbformat": 4,
 "nbformat_minor": 5
}
